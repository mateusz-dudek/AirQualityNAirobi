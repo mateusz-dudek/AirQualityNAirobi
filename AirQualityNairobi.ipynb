{
 "cells": [
  {
   "cell_type": "markdown",
   "id": "3cd5f3c3",
   "metadata": {},
   "source": [
    "<center><font size=\"+3\"><strong>Air Quality in Nairobi🇿</strong></font></center>"
   ]
  },
  {
   "cell_type": "code",
   "execution_count": 10,
   "id": "b7de079d",
   "metadata": {},
   "outputs": [],
   "source": [
    "import inspect\n",
    "import time\n",
    "import warnings\n",
    "import matplotlib.pyplot as plt\n",
    "import pandas as pd\n",
    "import plotly.express as px\n",
    "import seaborn as sns\n",
    "from pymongo import MongoClient\n",
    "from sklearn.metrics import mean_absolute_error\n",
    "from statsmodels.graphics.tsaplots import plot_acf, plot_pacf\n",
    "from statsmodels.tsa.arima.model import ARIMA\n",
    "from statsmodels.tsa.ar_model import AutoReg"
   ]
  },
  {
   "cell_type": "markdown",
   "id": "9877a6e2",
   "metadata": {},
   "source": [
    "# Data Exploration"
   ]
  },
  {
   "cell_type": "code",
   "execution_count": 16,
   "id": "5b2daa49",
   "metadata": {},
   "outputs": [],
   "source": [
    "client = MongoClient(host=\"localhost\", port=27017)\n",
    "db = client[\"air-quality\"]\n",
    "dar = db[\"dar-es-salaam\"]"
   ]
  },
  {
   "cell_type": "markdown",
   "id": "47eee4e1",
   "metadata": {},
   "source": [
    "Determination of the numbers assigned to all the sensor sites in the Dar es Salaam collection"
   ]
  },
  {
   "cell_type": "code",
   "execution_count": 17,
   "id": "7cc274f3",
   "metadata": {},
   "outputs": [
    {
     "data": {
      "text/plain": [
       "[]"
      ]
     },
     "execution_count": 17,
     "metadata": {},
     "output_type": "execute_result"
    }
   ],
   "source": [
    "sites = dar.distinct('metadata.site')\n",
    "sites"
   ]
  },
  {
   "cell_type": "markdown",
   "id": "efd0af90",
   "metadata": {},
   "source": [
    "Determination which site in the Dar es Salaam collection has the most sensor readings"
   ]
  },
  {
   "cell_type": "code",
   "execution_count": null,
   "id": "3478cc8c",
   "metadata": {},
   "outputs": [],
   "source": [
    "result = dar.aggregate(\n",
    "    [\n",
    "        {\"$group\": {\"_id\": \"$metadata.site\", \"count\": {\"$count\": {}}}}\n",
    "    ]\n",
    ")\n",
    "readings_per_site = list(result)\n",
    "readings_per_site"
   ]
  },
  {
   "cell_type": "markdown",
   "id": "746d2ca0",
   "metadata": {},
   "source": [
    "## Importing data"
   ]
  },
  {
   "cell_type": "markdown",
   "id": "f46cbe74",
   "metadata": {},
   "source": [
    "Creating wrangle fuction that will extract the PM2.5 readings from the site that has the most total readings in the Dar es Salaam collection and then:\n",
    "* Localizing reading time stamps to the timezone for `\"Africa/Dar_es_Salaam\"`\n",
    "* Removing all outlier PM2.5 readings that are above 100. \n",
    "* Resampling the data to provide the mean PM2.5 reading for each hour.\n",
    "* Imputing any missing values using the forward-will method. \n",
    "* Returning a Series `y`. "
   ]
  },
  {
   "cell_type": "code",
   "execution_count": null,
   "id": "e9068e58",
   "metadata": {},
   "outputs": [],
   "source": [
    "def wrangle(collection):\n",
    "    results = collection.find(\n",
    "        {\"metadata.site\": 11, \"metadata.measurement\": \"P2\"},\n",
    "        projection={\"P2\": 1, \"timestamp\": 1, \"_id\": 0},\n",
    "    )\n",
    "\n",
    "    df = pd.DataFrame(results).set_index('timestamp')\n",
    "    \n",
    "    #Localize timzone\n",
    "    df.index = df.index.tz_localize(\"UTC\").tz_convert(\"Africa/Dar_es_Salaam\")\n",
    "    \n",
    "    # Remove outliers\n",
    "    df = df[df['P2'] < 100]\n",
    "    \n",
    "    # Resmaple to 1H window and fill NaN using forward fill method\n",
    "    y = df['P2'].resample(\"1H\").mean().fillna(method=\"ffill\")\n",
    "    \n",
    "    \n",
    "    return y"
   ]
  },
  {
   "cell_type": "code",
   "execution_count": null,
   "id": "71bdf93c",
   "metadata": {},
   "outputs": [],
   "source": [
    "y = wrangle(dar)\n",
    "y.head()"
   ]
  },
  {
   "cell_type": "markdown",
   "id": "505ed5d2",
   "metadata": {},
   "source": [
    "Creating a time series plot of the readings in `y`"
   ]
  },
  {
   "cell_type": "code",
   "execution_count": null,
   "id": "335d6dad",
   "metadata": {},
   "outputs": [],
   "source": [
    "fig, ax = plt.subplots(figsize=(15, 6))\n",
    "y.plot(xlabel='Date', ylabel='PM2.5 Level', title='Dar es Salaam PM2.5 Levels', ax=ax)"
   ]
  },
  {
   "cell_type": "markdown",
   "id": "82382d1f",
   "metadata": {},
   "source": [
    "Creating and ploting rolling average of the readings in `y`"
   ]
  },
  {
   "cell_type": "code",
   "execution_count": null,
   "id": "680be13b",
   "metadata": {},
   "outputs": [],
   "source": [
    "fig, ax = plt.subplots(figsize=(15, 6))\n",
    "y.rolling(168).mean().plot(ax=ax, xlabel='Date', ylabel='PM2.5 Level', title='Dar es Salaam PM2.5 Levels, 7-Day Rolling Average')"
   ]
  },
  {
   "cell_type": "markdown",
   "id": "e02dc0ae",
   "metadata": {},
   "source": [
    "Creating an ACF plot for the data in y"
   ]
  },
  {
   "cell_type": "code",
   "execution_count": null,
   "id": "72ea2bcd",
   "metadata": {},
   "outputs": [],
   "source": [
    "fig, ax = plt.subplots(figsize=(15, 6))\n",
    "plot_acf(y, ax=ax)\n",
    "plt.xlabel('Lag [hours]')\n",
    "plt.ylabel('Correlation Coefficient')\n",
    "plt.title('Dar es Salaam PM2.5 Readings, ACF')"
   ]
  },
  {
   "cell_type": "markdown",
   "id": "8024fd0c",
   "metadata": {},
   "source": [
    "Creating an PACF plot for the data in y"
   ]
  },
  {
   "cell_type": "code",
   "execution_count": null,
   "id": "37c006f4",
   "metadata": {},
   "outputs": [],
   "source": [
    "fig, ax = plt.subplots(figsize=(15, 6))\n",
    "plot_pacf(y, ax=ax)\n",
    "plt.xlabel('Lag [hours]')\n",
    "plt.ylabel('Correlation Coefficient')\n",
    "plt.title('Dar es Salaam PM2.5 Readings, PACF')"
   ]
  },
  {
   "cell_type": "markdown",
   "id": "aac67076",
   "metadata": {},
   "source": [
    "# Modeling"
   ]
  },
  {
   "cell_type": "markdown",
   "id": "c2a07da1",
   "metadata": {},
   "source": [
    "Split on train test data"
   ]
  },
  {
   "cell_type": "code",
   "execution_count": null,
   "id": "0aad3cd8",
   "metadata": {},
   "outputs": [],
   "source": [
    "cutoff_test = int(len(y) * 0.90)\n",
    "y_train = y.iloc[:cutoff_test]\n",
    "y_test = y.iloc[cutoff_test:]"
   ]
  },
  {
   "cell_type": "markdown",
   "id": "7c89c43e",
   "metadata": {},
   "source": [
    "# Baseline"
   ]
  },
  {
   "cell_type": "code",
   "execution_count": null,
   "id": "a3aa80ec",
   "metadata": {},
   "outputs": [],
   "source": [
    "y_train_mean = y_train.mean()\n",
    "y_pred_baseline = [y_train_mean] * len(y_train)\n",
    "mae_baseline = mean_absolute_error(y_train, y_pred_baseline)\n",
    "\n",
    "print(\"Mean P2 Reading:\", y_train_mean)\n",
    "print(\"Baseline MAE:\", mae_baseline)"
   ]
  },
  {
   "cell_type": "markdown",
   "id": "0700b068",
   "metadata": {},
   "source": [
    "## ARIMA model"
   ]
  },
  {
   "cell_type": "markdown",
   "id": "35511f55",
   "metadata": {},
   "source": [
    "Searching for `p` parameter and best model selection"
   ]
  },
  {
   "cell_type": "code",
   "execution_count": null,
   "id": "3582147c",
   "metadata": {},
   "outputs": [],
   "source": [
    "p_params = range(1, 31)\n",
    "maes = []\n",
    "i = 0\n",
    "for p in p_params:\n",
    "    start_time = time.time()\n",
    "    model = AutoReg(y_train, lags=p).fit()\n",
    "    elapsed_time = round(time.time() - start_time, 2)\n",
    "    print(f\"Trained AR model {p} in {elapsed_time} seconds.\")\n",
    "    y_pred = model.predict()\n",
    "    mae = mean_absolute_error(y_train.iloc[p:], y_pred.iloc[p:])\n",
    "    maes.append(mae)\n",
    "mae_series = pd.Series(maes, name=\"mae\", index=p_params)\n",
    "\n",
    "mae_series.head()"
   ]
  },
  {
   "cell_type": "code",
   "execution_count": null,
   "id": "bb06a5c4",
   "metadata": {},
   "outputs": [],
   "source": [
    "print(\"Best model: \" mae_series.min()"
   ]
  },
  {
   "cell_type": "code",
   "execution_count": null,
   "id": "c4f7eed1",
   "metadata": {},
   "outputs": [],
   "source": [
    "best_p = 25\n",
    "best_model = AutoReg(y_train, lags=best_p).fit()"
   ]
  },
  {
   "cell_type": "markdown",
   "id": "80b77819",
   "metadata": {},
   "source": [
    "Plotting best model residuals"
   ]
  },
  {
   "cell_type": "code",
   "execution_count": null,
   "id": "fa01268f",
   "metadata": {},
   "outputs": [],
   "source": [
    "y_train_resid = best_model.resid\n",
    "y_train_resid.tail(10)"
   ]
  },
  {
   "cell_type": "code",
   "execution_count": null,
   "id": "9a34cebc",
   "metadata": {},
   "outputs": [],
   "source": [
    "y_train_resid.hist()\n",
    "plt.xlabel(\"Residuals\")\n",
    "plt.ylabel(\"Frequency\")\n",
    "plt.title(\"Best Model, Training Residuals\");"
   ]
  },
  {
   "cell_type": "markdown",
   "id": "716cf618",
   "metadata": {},
   "source": [
    "ACF plot for residuals"
   ]
  },
  {
   "cell_type": "code",
   "execution_count": null,
   "id": "5ce0cacd",
   "metadata": {},
   "outputs": [],
   "source": [
    "fig, ax = plt.subplots(figsize=(15, 6))\n",
    "plot_acf(y_train_resid, ax=ax)\n",
    "plt.xlabel('Lag [hours]')\n",
    "plt.ylabel('Correlation Coefficient')\n",
    "plt.title('Dar es Salaam, Training Residuals ACF')"
   ]
  },
  {
   "cell_type": "markdown",
   "id": "844b35eb",
   "metadata": {},
   "source": [
    "## Evaluation"
   ]
  },
  {
   "cell_type": "markdown",
   "id": "826b9317",
   "metadata": {},
   "source": [
    "Walk-forward validation for cerated model"
   ]
  },
  {
   "cell_type": "code",
   "execution_count": null,
   "id": "d1ab4d15",
   "metadata": {},
   "outputs": [],
   "source": [
    "y_pred_wfv = pd.Series()\n",
    "history = y_train.copy()\n",
    "for i in range(len(y_test)):\n",
    "    model = AutoReg(history, lags=28).fit()\n",
    "    next_pred = model.forecast()\n",
    "    y_pred_wfv = y_pred_wfv.append(next_pred)\n",
    "    history = history.append(y_test[next_pred.index])\n",
    "\n",
    "y_pred_wfv.head()"
   ]
  },
  {
   "cell_type": "markdown",
   "id": "3e86d46d",
   "metadata": {},
   "source": [
    "## Results"
   ]
  },
  {
   "cell_type": "markdown",
   "id": "391e1037",
   "metadata": {},
   "source": [
    "Poltting predicton results in comparision with test data"
   ]
  },
  {
   "cell_type": "code",
   "execution_count": null,
   "id": "2e2be710",
   "metadata": {},
   "outputs": [],
   "source": [
    "df_pred_test = pd.DataFrame(\n",
    "    {\n",
    "        'Test data': y_test,\n",
    "        'Prediction': y_pred_wfv\n",
    "    }\n",
    ")\n",
    "fig = px.line(df_pred_test)\n",
    "fig.update_layout(\n",
    "    title=\"Dar es Salaam, WFV Predictions\",\n",
    "    xaxis_title=\"Date\",\n",
    "    yaxis_title=\"PM2.5 Level\",\n",
    ");\n",
    "fig.show()"
   ]
  }
 ],
 "metadata": {
  "kernelspec": {
   "display_name": "Python 3",
   "language": "python",
   "name": "python3"
  },
  "language_info": {
   "codemirror_mode": {
    "name": "ipython",
    "version": 3
   },
   "file_extension": ".py",
   "mimetype": "text/x-python",
   "name": "python",
   "nbconvert_exporter": "python",
   "pygments_lexer": "ipython3",
   "version": "3.8.8"
  }
 },
 "nbformat": 4,
 "nbformat_minor": 5
}
